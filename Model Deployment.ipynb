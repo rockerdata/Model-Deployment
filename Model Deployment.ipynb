{
 "cells": [
  {
   "cell_type": "code",
   "execution_count": 111,
   "metadata": {
    "collapsed": true
   },
   "outputs": [],
   "source": [
    "from sklearn import datasets\n",
    "import sqlite3   \n",
    "from sklearn "
   ]
  },
  {
   "cell_type": "code",
   "execution_count": 141,
   "metadata": {},
   "outputs": [],
   "source": [
    "import pandas as pd\n",
    "from sklearn.model_selection import train_test_split\n",
    "from sklearn.ensemble import RandomForestClassifier\n",
    "import pickle"
   ]
  },
  {
   "cell_type": "code",
   "execution_count": 124,
   "metadata": {
    "collapsed": true
   },
   "outputs": [],
   "source": [
    "def getDatabaseConnection():\n",
    "    conn = sqlite3.connect('example.db')\n",
    "    return conn"
   ]
  },
  {
   "cell_type": "code",
   "execution_count": 126,
   "metadata": {
    "collapsed": true
   },
   "outputs": [],
   "source": [
    "def loadIrisToDatabase():\n",
    "\n",
    "    conn = getDatabaseConnection()\n",
    "    \n",
    "    iris = datasets.load_iris()\n",
    "    \n",
    "    c = conn.cursor()\n",
    "\n",
    "    # Create table\n",
    "    c.execute('''CREATE TABLE iris\n",
    "                 (sepal_length real, sepal_width real, petal_length real, petal_width real, target int)''')\n",
    "    print(\"....Database Created....\")\n",
    "    \n",
    "    for i in range(1,iris.data.shape[0]):\n",
    "        c.execute(\"INSERT INTO iris VALUES (%d,%d,%d,%d,%d)\" % (iris.data[i,0],iris.data[i,1],iris.data[i,2],iris.data[i,3], iris.target[i]))\n",
    "    \n",
    "    conn.commit()"
   ]
  },
  {
   "cell_type": "code",
   "execution_count": 136,
   "metadata": {
    "collapsed": true
   },
   "outputs": [],
   "source": [
    "def createDatasets():\n",
    "    df = pd.DataFrame(list(c.execute('SELECT * FROM iris')))\n",
    "    traindevx, testx, traindevy, testy = train_test_split(df.loc[:,:4], df.loc[:,4])\n",
    "    trainx, devx, trainy, devy = train_test_split(traindevx, traindevy)\n",
    "    return (traindevx, traindevy, devx, devy, testx, testy)"
   ]
  },
  {
   "cell_type": "code",
   "execution_count": 142,
   "metadata": {
    "collapsed": true
   },
   "outputs": [],
   "source": [
    "def trainModel(trainx, trainy):\n",
    "    model = RandomForestClassifier()\n",
    "    model.fit(trainx, trainy)\n",
    "    pickle.dump(model, open('saved_model', 'wb'))"
   ]
  },
  {
   "cell_type": "code",
   "execution_count": 145,
   "metadata": {
    "collapsed": true
   },
   "outputs": [],
   "source": [
    "def predictModel(testx):\n",
    "    model = pickle.load(open('saved_model', 'rb'))\n",
    "    pred = model.predict(testx)\n",
    "    return pred"
   ]
  },
  {
   "cell_type": "code",
   "execution_count": 151,
   "metadata": {
    "collapsed": true
   },
   "outputs": [],
   "source": [
    "def checkAccuracy(predy, actualy):\n",
    "    con_mat = confusion_matrix(trainy_pred, trainy)\n",
    "    print(con_mat)\n",
    "    precision = precision_score(trainy_pred, trainy, average=None)\n",
    "    recall = recall_score(trainy_pred, trainy, average=None)\n",
    "    accuracy = accuracy_score(trainy_pred, trainy)\n",
    "    print('Precision is {} Recall is {} Accuracy is {}'.format(precision, recall, accuracy))"
   ]
  },
  {
   "cell_type": "code",
   "execution_count": 130,
   "metadata": {},
   "outputs": [
    {
     "name": "stdout",
     "output_type": "stream",
     "text": [
      "....Database Created....\n"
     ]
    }
   ],
   "source": [
    "loadIrisToDatabase()\n",
    "datasets = createDatasets()\n",
    "trainModel(datasets[0], datasets[1])"
   ]
  },
  {
   "cell_type": "markdown",
   "metadata": {},
   "source": [
    "## Check Accuracy on Dev set"
   ]
  },
  {
   "cell_type": "code",
   "execution_count": 152,
   "metadata": {},
   "outputs": [
    {
     "name": "stdout",
     "output_type": "stream",
     "text": [
      "[[33  0  0]\n",
      " [ 0 25  0]\n",
      " [ 0  0 26]]\n",
      "Precision is [ 1.  1.  1.] Recall is [ 1.  1.  1.] Accuracy is 1.0\n"
     ]
    }
   ],
   "source": [
    "pred = predictModel(datasets[2])\n",
    "checkAccuracy(pred, datasets[3])"
   ]
  },
  {
   "cell_type": "markdown",
   "metadata": {},
   "source": [
    "## Check Accuracy on Test set"
   ]
  },
  {
   "cell_type": "code",
   "execution_count": 154,
   "metadata": {},
   "outputs": [
    {
     "name": "stdout",
     "output_type": "stream",
     "text": [
      "[[33  0  0]\n",
      " [ 0 25  0]\n",
      " [ 0  0 26]]\n",
      "Precision is [ 1.  1.  1.] Recall is [ 1.  1.  1.] Accuracy is 1.0\n"
     ]
    }
   ],
   "source": [
    "pred = predictModel(datasets[4])\n",
    "checkAccuracy(pred, datasets[5])"
   ]
  },
  {
   "cell_type": "code",
   "execution_count": 158,
   "metadata": {},
   "outputs": [
    {
     "data": {
      "text/plain": [
       "(111,)"
      ]
     },
     "execution_count": 158,
     "metadata": {},
     "output_type": "execute_result"
    }
   ],
   "source": [
    "datasets[1].shape"
   ]
  },
  {
   "cell_type": "code",
   "execution_count": null,
   "metadata": {
    "collapsed": true
   },
   "outputs": [],
   "source": []
  }
 ],
 "metadata": {
  "kernelspec": {
   "display_name": "Python 2",
   "language": "python",
   "name": "python2"
  },
  "language_info": {
   "codemirror_mode": {
    "name": "ipython",
    "version": 2
   },
   "file_extension": ".py",
   "mimetype": "text/x-python",
   "name": "python",
   "nbconvert_exporter": "python",
   "pygments_lexer": "ipython2",
   "version": "2.7.14"
  }
 },
 "nbformat": 4,
 "nbformat_minor": 2
}
